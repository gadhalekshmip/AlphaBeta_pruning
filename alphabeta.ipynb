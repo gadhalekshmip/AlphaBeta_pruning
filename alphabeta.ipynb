{
  "nbformat": 4,
  "nbformat_minor": 0,
  "metadata": {
    "colab": {
      "provenance": [],
      "authorship_tag": "ABX9TyPq2QVoiE26mAU9dWZ+uzqQ",
      "include_colab_link": true
    },
    "kernelspec": {
      "name": "python3",
      "display_name": "Python 3"
    },
    "language_info": {
      "name": "python"
    }
  },
  "cells": [
    {
      "cell_type": "markdown",
      "metadata": {
        "id": "view-in-github",
        "colab_type": "text"
      },
      "source": [
        "<a href=\"https://colab.research.google.com/github/gadhalekshmip/AlphaBeta_pruning/blob/main/alphabeta.ipynb\" target=\"_parent\"><img src=\"https://colab.research.google.com/assets/colab-badge.svg\" alt=\"Open In Colab\"/></a>"
      ]
    },
    {
      "cell_type": "code",
      "execution_count": 23,
      "metadata": {
        "colab": {
          "base_uri": "https://localhost:8080/"
        },
        "id": "h92yTK18Bk-f",
        "outputId": "852fdc51-6cbf-43b1-da7a-daf24b61c0b8"
      },
      "outputs": [
        {
          "output_type": "stream",
          "name": "stdout",
          "text": [
            "Enter the depth of the tree : 3\n",
            "Enter the values of the leafnodes : 3 5 6 9 1 2 0 -1\n",
            "3\n",
            "5\n",
            "6\n",
            "1\n",
            "2\n",
            "Final Answer\n",
            "5\n"
          ]
        }
      ],
      "source": [
        "import copy \n",
        "MIN,MAX = -1000,1000\n",
        "maxdepth = 3\n",
        "\n",
        "def minimax(depth,nodeIndex,maximizingPlayer,values,alpha,beta,maxdepth,temp):\n",
        "\tif depth == maxdepth: #base condition\n",
        "\t\treturn values[nodeIndex]\n",
        "\tif maximizingPlayer:\n",
        "\t\tbest = MIN\n",
        "\t\tfor i in range(2):\n",
        "\t\t\tval = minimax(depth+1,nodeIndex*2+i,False,values,alpha,beta,maxdepth,temp)\n",
        "\t\t\tbest = max(best,val)\n",
        "\t\t\talpha = max(alpha,best)\n",
        "\t\t\tif best in temp:\n",
        "\t\t\t\tprint(best)\n",
        "\t\t\t\ttemp.remove(best)\n",
        "\t\t\tif beta <= alpha:\n",
        "\t\t\t\tbreak\n",
        "\t\treturn best\n",
        "\telse:\n",
        "\t\tbest = MAX\n",
        "\t\tfor i in range(2):\n",
        "\t\t\tval = minimax(depth+1,nodeIndex*2+i,True,values,alpha,beta,maxdepth,temp)\t\t\n",
        "\t\t\tbest = min(best,val)\n",
        "\t\t\tbeta = min(best,beta)\n",
        "\t\t\tif best in temp:\n",
        "\t\t\t\tprint(best)\n",
        "\t\t\t\ttemp.remove(best)\n",
        "\t\t\tif beta <=alpha:\n",
        "\t\t\t\tbreak\n",
        "\t\treturn best\n",
        "if __name__ == \"__main__\":\n",
        "\tmaxdepth = int(input(\"Enter the depth of the tree : \"))\n",
        "\t#values = [3,5,6,9,1,2,0,-1]\n",
        "\tvalues = input(\"Enter the values of the leafnodes : \")\n",
        "\tvalues = values.split(\" \")\n",
        "\tvalues = [int(i) for i in values]\n",
        "\ttemp= copy.deepcopy(values)\n",
        "\tval = minimax(0,0,True,values,MIN,MAX,maxdepth,temp)\n",
        "\tprint(\"Final Answer\")\n",
        "\tprint(val)\n",
        "\t\n"
      ]
    }
  ]
}